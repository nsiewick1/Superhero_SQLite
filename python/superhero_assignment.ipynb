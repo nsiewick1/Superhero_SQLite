{
  "cells": [
    {
      "cell_type": "markdown",
      "metadata": {
        "id": "view-in-github",
        "colab_type": "text"
      },
      "source": [
        "<a href=\"https://colab.research.google.com/github/nsiewick1/Superhero_SQLite/blob/main/python/superhero_assignment.ipynb\" target=\"_parent\"><img src=\"https://colab.research.google.com/assets/colab-badge.svg\" alt=\"Open In Colab\"/></a>"
      ]
    },
    {
      "cell_type": "markdown",
      "id": "5fa8dcf6",
      "metadata": {
        "id": "5fa8dcf6"
      },
      "source": [
        "# Superhero Database Assignment (SQLite & Google Colab)\n",
        "\n",
        "## Objective\n",
        "In this assignment, you will design and implement a **Superhero Database** using SQLite in Google Colab. This database will store superheroes, villains, and their battles. You will write SQL queries to analyze battle outcomes and relationships between heroes and villains.\n",
        "\n",
        "### Group Size:\n",
        "- 2 to 3 students per group.\n",
        "\n",
        "### Tools Required:\n",
        "- **Google Colab**\n",
        "- **SQLite (built into Python)**\n",
        "- **CSV files (provided for import)**"
      ]
    },
    {
      "cell_type": "markdown",
      "id": "5535e625",
      "metadata": {
        "id": "5535e625"
      },
      "source": [
        "## Step 1: Setting Up Your SQLite Database\n",
        "\n",
        "### Tasks:\n",
        "1. Initialize SQLite in Google Colab.\n",
        "2. Create a database named `superhero_db.sqlite`.\n",
        "3. Define the database schema, ensuring it includes the following tables:\n",
        "   - `heroes`: Stores superhero names, powers, and teams.\n",
        "   - `villains`: Stores villains and their evil plans.\n",
        "   - `battles`: Tracks battles between heroes and villains, including the outcome.\n",
        "4. Implement primary keys and foreign keys where appropriate.\n",
        "\n",
        "✅ **Checkpoint:** Ensure that the database and tables have been successfully created."
      ]
    },
    {
      "cell_type": "code",
      "source": [
        "import sqlite3\n",
        "\n",
        "# Create or connect to an SQLite database\n",
        "connection = sqlite3.connect('superhero_db.sqlite')\n",
        "\n",
        "# Check if the connection was successful\n",
        "print(\"Database created and connected\")\n",
        "\n",
        "# Create a cursor object\n",
        "cursor = connection.cursor()\n",
        "\n",
        "# Explanation\n",
        "print(\"Cursor created!\")\n",
        "\n",
        "# DDL statements (using SQLite syntax)\n",
        "ddl_statements = '''\n",
        "DROP TABLE IF EXISTS heroes;\n",
        "DROP TABLE IF EXISTS villains;\n",
        "DROP TABLE IF EXISTS battles;\n",
        "\n",
        "\n",
        "CREATE TABLE IF NOT EXISTS heroes (\n",
        "    id INTEGER PRIMARY KEY AUTOINCREMENT,\n",
        "    name TEXT NOT NULL,\n",
        "    power TEXT NOT NULL,\n",
        "    team TEXT NOT NULL\n",
        ");\n",
        "\n",
        "\n",
        "CREATE TABLE IF NOT EXISTS villains(\n",
        "    id INTEGER PRIMARY KEY AUTOINCREMENT,\n",
        "    name TEXT NOT NULL,\n",
        "    evil_plan TEXT NOT NULL\n",
        ");\n",
        "\n",
        "CREATE TABLE IF NOT EXISTS battles (\n",
        "    id INTEGER PRIMARY KEY AUTOINCREMENT,\n",
        "    hero_id INTEGER,\n",
        "    villian_id INTEGER,\n",
        "    outcome TEXT NOT NULL\n",
        ");\n",
        "'''\n",
        "\n",
        "# Execute the DDL script\n",
        "cursor.executescript(ddl_statements)\n",
        "connection.commit()\n",
        "print('Database schema created successfully.')\n",
        "\n",
        "\n",
        "# Checking if tables were created successfully\n",
        "print(\"heroes table created!\")\n",
        "print(\"villains table created!\")\n",
        "print(\"battles table created!\")"
      ],
      "metadata": {
        "colab": {
          "base_uri": "https://localhost:8080/"
        },
        "id": "-e6mQrBT71fW",
        "outputId": "884fe794-759c-4e69-8ac4-2b9e344c8849"
      },
      "id": "-e6mQrBT71fW",
      "execution_count": 8,
      "outputs": [
        {
          "output_type": "stream",
          "name": "stdout",
          "text": [
            "Database created and connected\n",
            "Cursor created!\n",
            "Database schema created successfully.\n",
            "heroes table created!\n",
            "villains table created!\n",
            "battles table created!\n"
          ]
        }
      ]
    },
    {
      "cell_type": "markdown",
      "id": "154b3c3a",
      "metadata": {
        "id": "154b3c3a"
      },
      "source": [
        "## Step 2: Import Data from CSV Files\n",
        "\n",
        "### Tasks:\n",
        "1. Download the provided CSV files.\n",
        "2. Upload them to Google Colab.\n",
        "3. Write a script to import data from these files into the appropriate tables.\n",
        "4. Verify that the data has been successfully inserted.\n",
        "\n",
        "✅ **Checkpoint:** Ensure that each table contains the expected data from the CSV files."
      ]
    },
    {
      "cell_type": "code",
      "source": [
        "# Delete all data from the heroes, villians, and battles tables\n",
        "cursor.execute(\"DELETE FROM heroes\")\n",
        "cursor.execute(\"DELETE FROM villains\")\n",
        "cursor.execute(\"DELETE FROM battles\")\n",
        "connection.commit()\n",
        "\n",
        "print(\"All data from the heroes, villains, and battles tables have been deleted.\")"
      ],
      "metadata": {
        "colab": {
          "base_uri": "https://localhost:8080/"
        },
        "id": "w2xFuqXt4twI",
        "outputId": "d6b07e27-e5df-48e1-e1f9-6b4f2ccb4b6f"
      },
      "id": "w2xFuqXt4twI",
      "execution_count": 9,
      "outputs": [
        {
          "output_type": "stream",
          "name": "stdout",
          "text": [
            "All data from the heroes, villains, and battles tables have been deleted.\n"
          ]
        }
      ]
    },
    {
      "cell_type": "code",
      "source": [
        "import pandas as pd\n",
        "\n",
        "# Load data from CSV into a DataFrame\n",
        "df_heroes = pd.read_csv('heroes.csv')\n",
        "\n",
        "# Display the first few rows of the DataFrame\n",
        "print(df_heroes.head())\n",
        "\n",
        "# Load data from CSV into a DataFrame\n",
        "df_villains = pd.read_csv('villains.csv')\n",
        "\n",
        "# Display the first few rows of the DataFrame\n",
        "print(df_villains.head())\n",
        "\n",
        "# Load data from CSV into a DataFrame\n",
        "df_battles = pd.read_csv('battles.csv')\n",
        "\n",
        "# Display the first few rows of the DataFrame\n",
        "print(df_battles.head())"
      ],
      "metadata": {
        "colab": {
          "base_uri": "https://localhost:8080/"
        },
        "id": "z2tXi1X-64rF",
        "outputId": "a695c6c8-cc56-4f39-e0f3-48beeab41289"
      },
      "id": "z2tXi1X-64rF",
      "execution_count": 10,
      "outputs": [
        {
          "output_type": "stream",
          "name": "stdout",
          "text": [
            "   id        name             power            team\n",
            "0   1  Spider-Man      Web-slinging        Avengers\n",
            "1   2    Iron Man     Powered Armor        Avengers\n",
            "2   3      Batman  Genius Detective  Justice League\n",
            "3   4    Superman    Super Strength  Justice League\n",
            "4   5        Thor    God of Thunder        Avengers\n",
            "   id          name                           evil_plan\n",
            "0   1  Green Goblin                  Terrorize New York\n",
            "1   2        Thanos         Collect all Infinity Stones\n",
            "2   3         Joker              Spread chaos in Gotham\n",
            "3   4    Lex Luthor                     Defeat Superman\n",
            "4   5          Loki  Trick humanity into worshiping him\n",
            "   id  hero_id  villain_id       outcome\n",
            "0   1        1          10  Villain Wins\n",
            "1   2        9           3     Hero Wins\n",
            "2   3        8           1          Draw\n",
            "3   4        5           4  Villain Wins\n",
            "4   5        1           7     Hero Wins\n"
          ]
        }
      ]
    },
    {
      "cell_type": "code",
      "source": [
        "# Insert data from the DataFrame into the heroes table\n",
        "df_heroes.to_sql('heroes', connection, if_exists='replace', index=False)\n",
        "\n",
        "print(\"Data from CSV has been inserted into the heroes table.\")\n",
        "\n",
        "# Insert data from the DataFrame into the villians table\n",
        "df_villains.to_sql('villains', connection, if_exists='replace', index=False)\n",
        "\n",
        "print(\"Data from CSV has been inserted into the villains table.\")\n",
        "\n",
        "# Insert data from the DataFrame into the battles table\n",
        "df_battles.to_sql('battles', connection, if_exists='replace', index=False)\n",
        "\n",
        "print(\"Data from CSV has been inserted into the battles table.\")"
      ],
      "metadata": {
        "colab": {
          "base_uri": "https://localhost:8080/"
        },
        "id": "0hqR1-O37Kr8",
        "outputId": "09464086-4de7-4b44-a281-500a31dc484c"
      },
      "id": "0hqR1-O37Kr8",
      "execution_count": 11,
      "outputs": [
        {
          "output_type": "stream",
          "name": "stdout",
          "text": [
            "Data from CSV has been inserted into the heroes table.\n",
            "Data from CSV has been inserted into the villains table.\n",
            "Data from CSV has been inserted into the battles table.\n"
          ]
        }
      ]
    },
    {
      "cell_type": "markdown",
      "id": "33548d9f",
      "metadata": {
        "id": "33548d9f"
      },
      "source": [
        "## Step 3: Querying the Database\n",
        "\n",
        "### Tasks:\n",
        "Write SQL queries to answer the following:\n",
        "1. Retrieve all superheroes and their powers.\n",
        "2. Find all battles where the hero won.\n",
        "3. List all villains and their evil plans.\n",
        "4. Determine which superhero has fought the most battles.\n",
        "\n",
        "✅ **Checkpoint:** Ensure that all queries return meaningful results from the database."
      ]
    },
    {
      "cell_type": "code",
      "source": [
        "# 1. Retrieve all superheroes and their powers.\n",
        "print('Retrieve all superheros and their powers:')\n",
        "cursor.execute('''\n",
        "SELECT heroes.name, heroes.power FROM heroes\n",
        "''' )\n",
        "for row in cursor.fetchall():\n",
        "    print(row)\n",
        "\n",
        "# 2. Find all battles where the hero won.\n",
        "print('Find all battles where the hero won:')\n",
        "cursor.execute('''SELECT heroes.name, battles.id\n",
        "FROM battles JOIN heroes\n",
        "ON battles.hero_id = heroes.id\n",
        "WHERE outcome = 'Hero Wins'\n",
        "''')\n",
        "for row in cursor.fetchall():\n",
        "    print(row)\n",
        "\n",
        "# 3. List all villains and their evil plans.\n",
        "print('List all villains and their evil plans:')\n",
        "cursor.execute('''\n",
        "SELECT villains.name, villains.evil_plan\n",
        "FROM villains\n",
        "''' )\n",
        "for row in cursor.fetchall():\n",
        "    print(row)\n",
        "\n",
        "# 4. Determine which superhero has fought the most battles.\n",
        "print('Superhero that fought the most battles:')\n",
        "cursor.execute('''\n",
        "SELECT heroes.name, COUNT(battles.id) AS battle_count\n",
        "FROM battles\n",
        "JOIN heroes ON battles.hero_id = heroes.id\n",
        "GROUP BY heroes.name\n",
        "ORDER BY battle_count DESC\n",
        "LIMIT 1;\n",
        "''')\n",
        "\n",
        "for row in cursor.fetchall():\n",
        "    print(row)"
      ],
      "metadata": {
        "colab": {
          "base_uri": "https://localhost:8080/"
        },
        "id": "Le3mRVmO831N",
        "outputId": "49d07a27-367f-4d23-a876-2d8f1facab95"
      },
      "id": "Le3mRVmO831N",
      "execution_count": 12,
      "outputs": [
        {
          "output_type": "stream",
          "name": "stdout",
          "text": [
            "Retrieve all superheros and their powers:\n",
            "('Spider-Man', 'Web-slinging')\n",
            "('Iron Man', 'Powered Armor')\n",
            "('Batman', 'Genius Detective')\n",
            "('Superman', 'Super Strength')\n",
            "('Thor', 'God of Thunder')\n",
            "('Wonder Woman', 'Amazonian Strength')\n",
            "('Black Panther', 'Enhanced Agility')\n",
            "('The Flash', 'Super Speed')\n",
            "('Hulk', 'Super Strength')\n",
            "('Doctor Strange', 'Mystic Arts')\n",
            "Find all battles where the hero won:\n",
            "('Hulk', 2)\n",
            "('Spider-Man', 5)\n",
            "('Hulk', 7)\n",
            "('Batman', 8)\n",
            "('Black Panther', 9)\n",
            "('The Flash', 13)\n",
            "('Batman', 20)\n",
            "('Batman', 29)\n",
            "('Thor', 30)\n",
            "List all villains and their evil plans:\n",
            "('Green Goblin', 'Terrorize New York')\n",
            "('Thanos', 'Collect all Infinity Stones')\n",
            "('Joker', 'Spread chaos in Gotham')\n",
            "('Lex Luthor', 'Defeat Superman')\n",
            "('Loki', 'Trick humanity into worshiping him')\n",
            "('Ultron', 'AI world domination')\n",
            "('Darkseid', 'Control the universe')\n",
            "('Venom', 'Consume Spider-Man')\n",
            "('Magneto', 'Mutant supremacy')\n",
            "('Red Skull', 'Revive Hydra')\n",
            "Superhero that fought the most battles:\n",
            "('Batman', 7)\n"
          ]
        }
      ]
    },
    {
      "cell_type": "markdown",
      "id": "de8bda94",
      "metadata": {
        "id": "de8bda94"
      },
      "source": [
        "## Step 4: Add a Custom Feature\n",
        "\n",
        "### Tasks:\n",
        "1. Design and implement an additional table related to superheroes or villains.\n",
        "2. Populate it with data.\n",
        "3. Write at least one query to retrieve meaningful insights from the new table.\n",
        "\n",
        "**Examples of Custom Features:**\n",
        "- Sidekicks for superheroes\n",
        "- Villain hideouts\n",
        "- Battle locations\n",
        "- Superhero equipment\n",
        "\n",
        "✅ **Checkpoint:** Ensure that the new table and queries function correctly."
      ]
    },
    {
      "cell_type": "code",
      "source": [
        "# Create the sidekicks table\n",
        "cursor.execute('''\n",
        "CREATE TABLE IF NOT EXISTS sidekicks (\n",
        "    id INTEGER PRIMARY KEY AUTOINCREMENT,\n",
        "    name TEXT NOT NULL,\n",
        "    superhero_sidekick TEXT NOT NULL,\n",
        "    power TEXT NOT NULL\n",
        ")\n",
        "''')\n",
        "\n",
        "print (\"sidekicks table created\")\n",
        "\n",
        "# Delete all data from the sidekicks table before proceeding\n",
        "cursor.execute(\"DELETE FROM sidekicks\")\n",
        "\n",
        "# Sample data to insert inot the sidekicks table\n",
        "sidekicks_data = [('Chicken', 'Spider-Man', \"Swimming\"), ('Beef', 'Iron Man', \"Running\"),\n",
        " ('Ham', 'Batman', \"Cooking\"), ('Pork', 'Superman', \"Sprinting\"), ('Turkey', 'Thor', \"Sprinting\"),\n",
        "                  ('Peanut', 'Wonder Woman', \"Swimming\"), ('Almond', 'Black Panther', \"Swimming\"),\n",
        "                  ('Hazelnut', 'The Flash', \"Running\"), ('Coffee', 'Hulk', \"Cooking\"),\n",
        "                   ('Rice', 'Doctor Strange', \"Cooking\")]\n",
        "\n",
        "# Insert data into the table\n",
        "cursor.executemany('''\n",
        "INSERT INTO sidekicks (name, superhero_sidekick, power) VALUES (?, ?, ?)\n",
        "''', sidekicks_data)\n",
        "\n",
        "# Commit the transaction\n",
        "connection.commit()\n",
        "\n",
        "print(\"Data inserted into the sidekicks table successfully!\")\n",
        "\n",
        "# Query to find all the sidekicks who have a power of cooking\n",
        "cursor.execute('''\n",
        "SELECT * FROM sidekicks\n",
        "WHERE power = 'Cooking'\n",
        "''')\n",
        "\n",
        "sidekicks_power = cursor.fetchall()\n",
        "\n",
        "# Display the results\n",
        "print(\"Sidekicks who have a power of cooking:\")\n",
        "for sidekick in sidekicks_power:\n",
        "    print(f\"Name: {sidekick[1]}, Power: {sidekick[3]}\")\n"
      ],
      "metadata": {
        "colab": {
          "base_uri": "https://localhost:8080/"
        },
        "id": "cdAfdwyicrXF",
        "outputId": "16c70845-4b20-4335-8f62-648d5983dc1c"
      },
      "id": "cdAfdwyicrXF",
      "execution_count": 13,
      "outputs": [
        {
          "output_type": "stream",
          "name": "stdout",
          "text": [
            "sidekicks table created\n",
            "Data inserted into the sidekicks table successfully!\n",
            "Sidekicks who have a power of cooking:\n",
            "Name: Ham, Power: Cooking\n",
            "Name: Coffee, Power: Cooking\n",
            "Name: Rice, Power: Cooking\n"
          ]
        }
      ]
    },
    {
      "cell_type": "markdown",
      "id": "9bf43fe6",
      "metadata": {
        "id": "9bf43fe6"
      },
      "source": [
        "## Bonus Challenge (+5 Points)\n",
        "\n",
        "### Tasks:\n",
        "1. Enhance your project by adding a visual or interactive component.\n",
        "\n",
        "**Options:**\n",
        "- Visualize battles using Matplotlib (e.g., a bar chart showing how many battles each superhero has fought).\n",
        "- Make it interactive (e.g., allow users to input a superhero name and display their battles).\n",
        "\n",
        "✅ **Checkpoint:** If attempting the bonus, ensure that your visualization or interactive component works correctly."
      ]
    },
    {
      "cell_type": "code",
      "source": [
        "import matplotlib.pyplot as plt\n",
        "\n",
        "# Merge battles data with hero names\n",
        "battles_heroes = df_battles.merge(df_heroes, left_on = \"hero_id\", right_on = \"id\")\n",
        "\n",
        "# Count battles per hero\n",
        "hero_battle_counts = battles_heroes[\"name\"].value_counts()\n",
        "\n",
        "# Bar chart\n",
        "plt.figure(figsize=(10, 5))\n",
        "plt.bar(hero_battle_counts.index, hero_battle_counts.values)\n",
        "plt.xticks(rotation=45, ha='right')\n",
        "plt.xlabel(\"Superhero\")\n",
        "plt.ylabel(\"Number of Battles\")\n",
        "plt.title(\"Number of Battles Per Superhero\")\n",
        "plt.show()\n",
        "\n",
        "\n",
        "\n",
        "\n",
        "\n"
      ],
      "metadata": {
        "id": "HbjnG3Q5YvD9",
        "outputId": "519129a2-6c40-468e-868a-18b741c7a056",
        "colab": {
          "base_uri": "https://localhost:8080/",
          "height": 561
        }
      },
      "id": "HbjnG3Q5YvD9",
      "execution_count": 14,
      "outputs": [
        {
          "output_type": "display_data",
          "data": {
            "text/plain": [
              "<Figure size 1000x500 with 1 Axes>"
            ],
            "image/png": "[encoded data removed]"
          },
          "metadata": {}
        }
      ]
    },
    {
      "cell_type": "markdown",
      "id": "89f56c05",
      "metadata": {
        "id": "89f56c05"
      },
      "source": [
        "## Submission Guidelines\n",
        "\n",
        "Each group must submit a **Google Colab Notebook (.ipynb)** containing:\n",
        "- ✅ **Database schema (DDL)**\n",
        "- ✅ **CSV imports & data insertion (DML)**\n",
        "- ✅ **SQL queries & results**\n",
        "- ✅ **Custom feature (bonus if applicable)**"
      ]
    },
    {
      "cell_type": "markdown",
      "id": "61477c9b",
      "metadata": {
        "id": "61477c9b"
      },
      "source": [
        "## Grading Criteria (Total: 25 Points)\n",
        "\n",
        "| Section                 | Points |\n",
        "|-------------------------|--------|\n",
        "| Database Setup          | 5      |\n",
        "| Data Importing         | 10     |\n",
        "| Querying the Data      | 10     |\n",
        "| Extra Feature          | 5      |\n",
        "| Bonus Challenge (Optional) | +5  |"
      ]
    },
    {
      "cell_type": "markdown",
      "id": "92bf6839",
      "metadata": {
        "id": "92bf6839"
      },
      "source": [
        "### Final Notes:\n",
        "- Be **creative** when designing superheroes and villains.\n",
        "- **Comment your code** to explain its functionality.\n",
        "- **Have fun** building your superhero universe!"
      ]
    }
  ],
  "metadata": {
    "colab": {
      "provenance": [],
      "include_colab_link": true
    },
    "language_info": {
      "name": "python"
    },
    "kernelspec": {
      "name": "python3",
      "display_name": "Python 3"
    }
  },
  "nbformat": 4,
  "nbformat_minor": 5
}